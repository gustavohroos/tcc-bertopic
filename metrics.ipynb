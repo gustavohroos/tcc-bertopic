{
 "cells": [
  {
   "cell_type": "code",
   "execution_count": 1,
   "id": "62d6ad51",
   "metadata": {},
   "outputs": [],
   "source": [
    "import pandas as pd"
   ]
  },
  {
   "cell_type": "code",
   "execution_count": 2,
   "id": "892e0088",
   "metadata": {},
   "outputs": [],
   "source": [
    "metrics_v1_df = pd.read_csv(\"results/v1/daily_metrics_20230101_to_20230502.csv\")\n",
    "metrics_v2_df = pd.read_csv(\"results/v2/daily_metrics_20230101_to_20230502.csv\")\n",
    "metrics_online_df = pd.read_csv(\"results/online/daily_metrics_20230101_to_20230502.csv\")\n"
   ]
  },
  {
   "cell_type": "code",
   "execution_count": 3,
   "id": "f6b75eab",
   "metadata": {},
   "outputs": [],
   "source": [
    "columns = ['num_topics', 'doc_count', 'num_unassigned', 'npmi', 'td']\n",
    "metrics = ['max', 'min', 'mean', 'std']\n",
    "metrics_v1 = metrics_v1_df[columns].agg(metrics)\n",
    "metrics_v2 = metrics_v2_df[columns].agg(metrics)\n",
    "metrics_online = metrics_online_df[columns].agg(metrics)"
   ]
  },
  {
   "cell_type": "code",
   "execution_count": 4,
   "id": "6b56bb9d",
   "metadata": {},
   "outputs": [
    {
     "name": "stdout",
     "output_type": "stream",
     "text": [
      "\n",
      "Metrics v1:\n",
      "      num_topics   doc_count  num_unassigned      npmi        td\n",
      "max    18.000000  900.000000      339.000000  0.104745  1.000000\n",
      "min     2.000000  276.000000        0.000000 -0.330829  0.875000\n",
      "mean    6.566667  674.000000      127.100000 -0.165417  0.956194\n",
      "std     4.283510  176.034708      111.514735  0.092891  0.033897\n",
      "\n",
      "Metrics v2:\n",
      "      num_topics   doc_count  num_unassigned      npmi        td\n",
      "max    39.000000  900.000000      115.000000 -0.181950  1.000000\n",
      "min     5.000000  276.000000        0.000000 -0.455894  0.954545\n",
      "mean   22.675000  674.000000       53.241667 -0.315275  0.983562\n",
      "std     7.441833  176.034708       27.684900  0.040762  0.011022\n",
      "\n",
      "Metrics Online:\n",
      "      num_topics   doc_count  num_unassigned      npmi        td\n",
      "max         15.0  900.000000             0.0 -0.297364  0.813333\n",
      "min         15.0  276.000000             0.0 -0.469518  0.760000\n",
      "mean        15.0  674.000000             0.0 -0.380323  0.790778\n",
      "std          0.0  176.034708             0.0  0.031136  0.017006\n"
     ]
    }
   ],
   "source": [
    "print(\"\\nMetrics v1:\")\n",
    "print(metrics_v1)\n",
    "print(\"\\nMetrics v2:\")\n",
    "print(metrics_v2)\n",
    "print(\"\\nMetrics Online:\")\n",
    "print(metrics_online)"
   ]
  }
 ],
 "metadata": {
  "kernelspec": {
   "display_name": ".venv",
   "language": "python",
   "name": "python3"
  },
  "language_info": {
   "codemirror_mode": {
    "name": "ipython",
    "version": 3
   },
   "file_extension": ".py",
   "mimetype": "text/x-python",
   "name": "python",
   "nbconvert_exporter": "python",
   "pygments_lexer": "ipython3",
   "version": "3.10.14"
  }
 },
 "nbformat": 4,
 "nbformat_minor": 5
}
